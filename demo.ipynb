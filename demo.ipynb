{
 "cells": [
  {
   "cell_type": "code",
   "execution_count": 2,
   "metadata": {},
   "outputs": [
    {
     "name": "stderr",
     "output_type": "stream",
     "text": [
      "c:\\Users\\pluto\\AppData\\Local\\pypoetry\\Cache\\virtualenvs\\jqktrader-EOpNXzYo-py3.10\\lib\\site-packages\\pywinauto\\application.py:1085: UserWarning: 32-bit application should be automated using 32-bit Python (you use 64-bit Python)\n",
      "  warnings.warn(\n"
     ]
    },
    {
     "data": {
      "text/plain": [
       "{'message': 'success'}"
      ]
     },
     "execution_count": 2,
     "metadata": {},
     "output_type": "execute_result"
    }
   ],
   "source": [
    "import jqktrader\n",
    "\n",
    "user = jqktrader.use()\n",
    "\n",
    "user.connect(\n",
    "  exe_path=r'D:\\同花顺软件\\同花顺\\xiadan.exe',\n",
    "  tesseract_cmd=r'D:\\Program Files\\Tesseract-OCR\\tesseract.exe'\n",
    ")\n",
    "\n",
    "# user.position\n",
    "\n",
    "user.buy('601288', price=2.75, amount=100)"
   ]
  }
 ],
 "metadata": {
  "kernelspec": {
   "display_name": "Python 3.10.4 ('jqktrader-EOpNXzYo-py3.10')",
   "language": "python",
   "name": "python3"
  },
  "language_info": {
   "codemirror_mode": {
    "name": "ipython",
    "version": 3
   },
   "file_extension": ".py",
   "mimetype": "text/x-python",
   "name": "python",
   "nbconvert_exporter": "python",
   "pygments_lexer": "ipython3",
   "version": "3.10.4"
  },
  "orig_nbformat": 4,
  "vscode": {
   "interpreter": {
    "hash": "427174d10de08e7ba0b097af1f04ac0363ae87e81f723d609b62824178bcb47e"
   }
  }
 },
 "nbformat": 4,
 "nbformat_minor": 2
}
