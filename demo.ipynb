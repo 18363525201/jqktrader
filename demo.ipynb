{
 "cells": [
  {
   "cell_type": "code",
   "execution_count": 3,
   "metadata": {},
   "outputs": [
    {
     "name": "stderr",
     "output_type": "stream",
     "text": [
      "c:\\Users\\pluto\\AppData\\Local\\pypoetry\\Cache\\virtualenvs\\jqktrader-EOpNXzYo-py3.10\\lib\\site-packages\\pywinauto\\application.py:1062: UserWarning: 32-bit application should be automated using 32-bit Python (you use 64-bit Python)\n",
      "  warnings.warn(\n"
     ]
    },
    {
     "data": {
      "text/plain": [
       "{'资金余额': 42283.41,\n",
       " '可用金额': 42283.41,\n",
       " '可取金额': 42283.41,\n",
       " '股票市值': 42455.0,\n",
       " '总资产': 84738.41}"
      ]
     },
     "execution_count": 3,
     "metadata": {},
     "output_type": "execute_result"
    }
   ],
   "source": [
    "import jqktrader\n",
    "\n",
    "user = jqktrader.use()\n",
    "\n",
    "user.connect(r'D:\\同花顺软件\\同花顺\\xiadan.exe')\n",
    "\n",
    "user.balance"
   ]
  }
 ],
 "metadata": {
  "kernelspec": {
   "display_name": "Python 3.10.4 ('jqktrader-EOpNXzYo-py3.10')",
   "language": "python",
   "name": "python3"
  },
  "language_info": {
   "codemirror_mode": {
    "name": "ipython",
    "version": 3
   },
   "file_extension": ".py",
   "mimetype": "text/x-python",
   "name": "python",
   "nbconvert_exporter": "python",
   "pygments_lexer": "ipython3",
   "version": "3.10.4"
  },
  "orig_nbformat": 4,
  "vscode": {
   "interpreter": {
    "hash": "427174d10de08e7ba0b097af1f04ac0363ae87e81f723d609b62824178bcb47e"
   }
  }
 },
 "nbformat": 4,
 "nbformat_minor": 2
}
